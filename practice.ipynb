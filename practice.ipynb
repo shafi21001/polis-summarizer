{
 "cells": [
  {
   "cell_type": "code",
   "execution_count": 1,
   "id": "9dada6f3-af3d-412a-aef8-fa96d41c6381",
   "metadata": {},
   "outputs": [
    {
     "name": "stdout",
     "output_type": "stream",
     "text": [
      "<class 'int'> <class 'float'>\n"
     ]
    }
   ],
   "source": [
    "a = 10\n",
    "b = 3.14\n",
    "print(type(a), type(b))"
   ]
  },
  {
   "cell_type": "code",
   "execution_count": 2,
   "id": "ababd36a-1a7b-4606-9b9b-475f45f8793a",
   "metadata": {},
   "outputs": [
    {
     "name": "stdout",
     "output_type": "stream",
     "text": [
      "SHAFI\n",
      "Shafi is learning Python!\n"
     ]
    }
   ],
   "source": [
    "name = \"Shafi\"\n",
    "print(name.upper())\n",
    "print(name + \" is learning Python!\")\n"
   ]
  },
  {
   "cell_type": "code",
   "execution_count": 3,
   "id": "d31a0599-f674-451e-8f09-c375f4a60358",
   "metadata": {},
   "outputs": [
    {
     "name": "stdout",
     "output_type": "stream",
     "text": [
      "False\n"
     ]
    }
   ],
   "source": [
    "is_ready = True\n",
    "print(not is_ready)"
   ]
  },
  {
   "cell_type": "code",
   "execution_count": 4,
   "id": "7b5ddff0-5388-4afd-8488-4d7f3f9a5bb8",
   "metadata": {},
   "outputs": [
    {
     "name": "stdout",
     "output_type": "stream",
     "text": [
      "3\n",
      "mbstu\n",
      "True <class 'bool'>\n"
     ]
    }
   ],
   "source": [
    "print(len(\"ICT\"))\n",
    "print(\"MBSTU\".lower())\n",
    "print(10 > 5, type(False))"
   ]
  },
  {
   "cell_type": "code",
   "execution_count": 5,
   "id": "0a8fe761-ade9-4059-83d5-5b8a3fea844b",
   "metadata": {},
   "outputs": [
    {
     "name": "stdout",
     "output_type": "stream",
     "text": [
      "apple\n",
      "banana\n",
      "cherry\n",
      "apple\n",
      "['banana', 'cherry']\n",
      "3\n"
     ]
    }
   ],
   "source": [
    "fruits = [\"apple\", \"banana\", \"cherry\"]\n",
    "\n",
    "# Loop\n",
    "for fruit in fruits:\n",
    "    print(fruit)\n",
    "\n",
    "# Access\n",
    "print(fruits[0])       # First element\n",
    "print(fruits[1:])      # All except first\n",
    "\n",
    "# Length\n",
    "print(len(fruits))"
   ]
  },
  {
   "cell_type": "code",
   "execution_count": 6,
   "id": "267dc328-5e73-41fd-8440-7285b96f5229",
   "metadata": {},
   "outputs": [
    {
     "name": "stdout",
     "output_type": "stream",
     "text": [
      "I practice on Codeforces\n",
      "I practice on AtCoder\n",
      "I practice on LeetCode\n"
     ]
    }
   ],
   "source": [
    "cp_sites = [\"Codeforces\", \"AtCoder\", \"LeetCode\"]\n",
    "for site in cp_sites:\n",
    "    print(\"I practice on\", site)"
   ]
  },
  {
   "cell_type": "code",
   "execution_count": 7,
   "id": "59cf60da-9271-4a0a-966d-f3be640b1c15",
   "metadata": {},
   "outputs": [
    {
     "name": "stdout",
     "output_type": "stream",
     "text": [
      "Alice did well!\n"
     ]
    }
   ],
   "source": [
    "scores = {\"alice\": 90, \"bob\": 85}\n",
    "\n",
    "if scores[\"alice\"] > 80:\n",
    "    print(\"Alice did well!\")\n",
    "else:\n",
    "    print(\"Try again, Alice.\")"
   ]
  },
  {
   "cell_type": "code",
   "execution_count": 8,
   "id": "ed7149b2-8c1d-46d8-9331-f8aa3a213bf2",
   "metadata": {},
   "outputs": [
    {
     "name": "stdout",
     "output_type": "stream",
     "text": [
      "Shafi passed!\n",
      "alice scored 90\n",
      "bob scored 85\n",
      "shafi scored 88\n"
     ]
    }
   ],
   "source": [
    "scores[\"shafi\"] = 88\n",
    "if scores[\"shafi\"] > 70:\n",
    "    print(\"Shafi passed!\")\n",
    "\n",
    "# Print all scores\n",
    "for name in scores:\n",
    "    print(name, \"scored\", scores[name])"
   ]
  },
  {
   "cell_type": "code",
   "execution_count": 10,
   "id": "d05f2f16-3bd9-4912-9d79-33c0f3e6078f",
   "metadata": {},
   "outputs": [
    {
     "name": "stdout",
     "output_type": "stream",
     "text": [
      "16\n",
      "9\n"
     ]
    }
   ],
   "source": [
    "def square(n):\n",
    "    return n * n\n",
    "\n",
    "def max_of_two(a, b):\n",
    "    return a if a > b else b\n",
    "\n",
    "print(square(4))\n",
    "print(max_of_two(3, 9))"
   ]
  },
  {
   "cell_type": "code",
   "execution_count": 9,
   "id": "638baf35-e97b-44b5-b014-8cda5038dd0d",
   "metadata": {},
   "outputs": [
    {
     "name": "stdout",
     "output_type": "stream",
     "text": [
      "Hello, Shafi!\n",
      "Hello, Tariq!\n"
     ]
    }
   ],
   "source": [
    "def greet(name):\n",
    "    return f\"Hello, {name}!\"\n",
    "\n",
    "print(greet(\"Shafi\"))\n",
    "print(greet(\"Tariq\"))\n"
   ]
  },
  {
   "cell_type": "code",
   "execution_count": null,
   "id": "64772067-7b7a-44dc-9ea5-26f890b0b9ff",
   "metadata": {},
   "outputs": [],
   "source": []
  }
 ],
 "metadata": {
  "kernelspec": {
   "display_name": "Python 3 (ipykernel)",
   "language": "python",
   "name": "python3"
  },
  "language_info": {
   "codemirror_mode": {
    "name": "ipython",
    "version": 3
   },
   "file_extension": ".py",
   "mimetype": "text/x-python",
   "name": "python",
   "nbconvert_exporter": "python",
   "pygments_lexer": "ipython3",
   "version": "3.10.18"
  }
 },
 "nbformat": 4,
 "nbformat_minor": 5
}
